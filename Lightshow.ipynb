{
 "cells": [
  {
   "cell_type": "code",
   "execution_count": 1,
   "id": "b0926cd3",
   "metadata": {},
   "outputs": [],
   "source": [
    "import numpy as np\n",
    "import tensorflow as tf"
   ]
  },
  {
   "cell_type": "code",
   "execution_count": 2,
   "id": "44c583e4",
   "metadata": {},
   "outputs": [],
   "source": [
    "x_a = np.array([1, 2, 3], np.float32)\n",
    "d_a = np.array([-5,3,1], np.float32)"
   ]
  },
  {
   "cell_type": "code",
   "execution_count": 3,
   "id": "bc8fd81b",
   "metadata": {},
   "outputs": [],
   "source": [
    "x_b = np.array([1,2,5], np.float32)\n",
    "d_b = np.array([-7,1,0], np.float32)"
   ]
  },
  {
   "cell_type": "code",
   "execution_count": 4,
   "id": "440e4d28",
   "metadata": {},
   "outputs": [],
   "source": [
    "class MyModel(tf.keras.Model):\n",
    "  def __init__(self, **kwargs):\n",
    "    super().__init__(**kwargs)\n",
    "    # Start the gradient walk at the following parameters:\n",
    "    # In practice, these should be randomly initialized\n",
    "    self.t = param_t = tf.Variable(-1.0, trainable=True)\n",
    "    self.s = param_s = tf.Variable(-1.0, trainable=True)\n",
    "    self.system_tensor = tf.constant([d_a, d_b, x_a, x_b])\n",
    "    self.last_err = tf.Variable(0.0)\n",
    "    \n",
    "  def __call__(self, x, training=False):\n",
    "    a_pt = self.t * self.system_tensor[0] + self.system_tensor[2]\n",
    "    b_pt = self.s * self.system_tensor[1] + self.system_tensor[3]\n",
    "    diff_vec = a_pt - b_pt\n",
    "    self.last_err = tf.tensordot(diff_vec, diff_vec, axes=1)\n",
    "    return self.last_err"
   ]
  },
  {
   "cell_type": "code",
   "execution_count": 5,
   "id": "392d891a",
   "metadata": {},
   "outputs": [
    {
     "name": "stdout",
     "output_type": "stream",
     "text": [
      "For 10,000 epochs\n",
      "Variables: [<tf.Variable 'Variable:0' shape=() dtype=float32, numpy=-1.0>, <tf.Variable 'Variable:0' shape=() dtype=float32, numpy=-1.0>, <tf.Variable 'Variable:0' shape=() dtype=float32, numpy=0.0>]\n",
      "<tf.Variable 'Variable:0' shape=() dtype=float32, numpy=0.32543072>\n",
      "<tf.Variable 'Variable:0' shape=() dtype=float32, numpy=0.24736899>\n"
     ]
    }
   ],
   "source": [
    "def fit_dump_model(epoch_count):\n",
    "    model = MyModel()\n",
    "\n",
    "    # List the variables tf.modules's built-in variable aggregation.\n",
    "    print(\"Variables:\", model.variables)\n",
    "\n",
    "    model.compile(\n",
    "        run_eagerly=False,\n",
    "        optimizer=tf.keras.optimizers.Adadelta(learning_rate=1),\n",
    "        loss=tf.keras.losses.mean_squared_error\n",
    "        \n",
    "    )\n",
    "    model.fit([0], [0], epochs=epoch_count, batch_size=1, verbose=0,\n",
    "             callbacks=[tf.keras.callbacks.EarlyStopping(monitor='loss',\n",
    "                                                      patience=1,\n",
    "                                                      mode='min',\n",
    "                                                      restore_best_weights=True)])\n",
    "    \n",
    "    print(model.t)\n",
    "    print(model.s)\n",
    "\n",
    "\n",
    "print(\"For 10,000 epochs\")\n",
    "fit_dump_model(10000)"
   ]
  }
 ],
 "metadata": {
  "kernelspec": {
   "display_name": "Python 3 (ipykernel)",
   "language": "python",
   "name": "python3"
  },
  "language_info": {
   "codemirror_mode": {
    "name": "ipython",
    "version": 3
   },
   "file_extension": ".py",
   "mimetype": "text/x-python",
   "name": "python",
   "nbconvert_exporter": "python",
   "pygments_lexer": "ipython3",
   "version": "3.9.7"
  }
 },
 "nbformat": 4,
 "nbformat_minor": 5
}
